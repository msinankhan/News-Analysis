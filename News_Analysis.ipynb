{
  "nbformat": 4,
  "nbformat_minor": 0,
  "metadata": {
    "colab": {
      "name": "News Analysis.ipynb",
      "provenance": [],
      "authorship_tag": "ABX9TyMzBjoXSNVMzAVGqh2YxhCd",
      "include_colab_link": true
    },
    "kernelspec": {
      "name": "python3",
      "display_name": "Python 3"
    },
    "language_info": {
      "name": "python"
    }
  },
  "cells": [
    {
      "cell_type": "markdown",
      "metadata": {
        "id": "view-in-github",
        "colab_type": "text"
      },
      "source": [
        "<a href=\"https://colab.research.google.com/github/msinankhan/News-Analysis/blob/main/News_Analysis.ipynb\" target=\"_parent\"><img src=\"https://colab.research.google.com/assets/colab-badge.svg\" alt=\"Open In Colab\"/></a>"
      ]
    },
    {
      "cell_type": "markdown",
      "source": [
        "#The following project is built with an intention to help in the analysis of the coverage of various media outlets.\n",
        "\n",
        "###We try to count the number of articles a given media has dedicated to a given topic.\n",
        "\n",
        "###We hypothesize that if the article is about a given subject, that words most likely exists in the title of the article.\n",
        "###As in the following case, we assume if the article is about covid, the words COVID or COVID-19 or CORONA VIRUS etc would be present in the title\n"
      ],
      "metadata": {
        "id": "QT3oQ5wW_R6s"
      }
    },
    {
      "cell_type": "code",
      "source": [
        "!pip install newspaper3k"
      ],
      "metadata": {
        "colab": {
          "base_uri": "https://localhost:8080/"
        },
        "id": "QUpGC-3NtHLN",
        "outputId": "af1d8895-ef27-4f43-a362-167417919a40",
        "collapsed": true
      },
      "execution_count": null,
      "outputs": [
        {
          "output_type": "stream",
          "name": "stdout",
          "text": [
            "Collecting newspaper3k\n",
            "  Downloading newspaper3k-0.2.8-py3-none-any.whl (211 kB)\n",
            "\u001b[K     |████████████████████████████████| 211 kB 5.3 MB/s \n",
            "\u001b[?25hCollecting jieba3k>=0.35.1\n",
            "  Downloading jieba3k-0.35.1.zip (7.4 MB)\n",
            "\u001b[K     |████████████████████████████████| 7.4 MB 26.3 MB/s \n",
            "\u001b[?25hRequirement already satisfied: requests>=2.10.0 in /usr/local/lib/python3.7/dist-packages (from newspaper3k) (2.23.0)\n",
            "Requirement already satisfied: beautifulsoup4>=4.4.1 in /usr/local/lib/python3.7/dist-packages (from newspaper3k) (4.6.3)\n",
            "Requirement already satisfied: python-dateutil>=2.5.3 in /usr/local/lib/python3.7/dist-packages (from newspaper3k) (2.8.2)\n",
            "Collecting tinysegmenter==0.3\n",
            "  Downloading tinysegmenter-0.3.tar.gz (16 kB)\n",
            "Requirement already satisfied: nltk>=3.2.1 in /usr/local/lib/python3.7/dist-packages (from newspaper3k) (3.2.5)\n",
            "Collecting cssselect>=0.9.2\n",
            "  Downloading cssselect-1.1.0-py2.py3-none-any.whl (16 kB)\n",
            "Requirement already satisfied: Pillow>=3.3.0 in /usr/local/lib/python3.7/dist-packages (from newspaper3k) (7.1.2)\n",
            "Collecting feedparser>=5.2.1\n",
            "  Downloading feedparser-6.0.8-py3-none-any.whl (81 kB)\n",
            "\u001b[K     |████████████████████████████████| 81 kB 9.0 MB/s \n",
            "\u001b[?25hCollecting tldextract>=2.0.1\n",
            "  Downloading tldextract-3.2.1-py3-none-any.whl (87 kB)\n",
            "\u001b[K     |████████████████████████████████| 87 kB 6.3 MB/s \n",
            "\u001b[?25hRequirement already satisfied: lxml>=3.6.0 in /usr/local/lib/python3.7/dist-packages (from newspaper3k) (4.2.6)\n",
            "Requirement already satisfied: PyYAML>=3.11 in /usr/local/lib/python3.7/dist-packages (from newspaper3k) (3.13)\n",
            "Collecting feedfinder2>=0.0.4\n",
            "  Downloading feedfinder2-0.0.4.tar.gz (3.3 kB)\n",
            "Requirement already satisfied: six in /usr/local/lib/python3.7/dist-packages (from feedfinder2>=0.0.4->newspaper3k) (1.15.0)\n",
            "Collecting sgmllib3k\n",
            "  Downloading sgmllib3k-1.0.0.tar.gz (5.8 kB)\n",
            "Requirement already satisfied: chardet<4,>=3.0.2 in /usr/local/lib/python3.7/dist-packages (from requests>=2.10.0->newspaper3k) (3.0.4)\n",
            "Requirement already satisfied: idna<3,>=2.5 in /usr/local/lib/python3.7/dist-packages (from requests>=2.10.0->newspaper3k) (2.10)\n",
            "Requirement already satisfied: urllib3!=1.25.0,!=1.25.1,<1.26,>=1.21.1 in /usr/local/lib/python3.7/dist-packages (from requests>=2.10.0->newspaper3k) (1.24.3)\n",
            "Requirement already satisfied: certifi>=2017.4.17 in /usr/local/lib/python3.7/dist-packages (from requests>=2.10.0->newspaper3k) (2021.10.8)\n",
            "Requirement already satisfied: filelock>=3.0.8 in /usr/local/lib/python3.7/dist-packages (from tldextract>=2.0.1->newspaper3k) (3.6.0)\n",
            "Collecting requests-file>=1.4\n",
            "  Downloading requests_file-1.5.1-py2.py3-none-any.whl (3.7 kB)\n",
            "Building wheels for collected packages: tinysegmenter, feedfinder2, jieba3k, sgmllib3k\n",
            "  Building wheel for tinysegmenter (setup.py) ... \u001b[?25l\u001b[?25hdone\n",
            "  Created wheel for tinysegmenter: filename=tinysegmenter-0.3-py3-none-any.whl size=13553 sha256=089519898e43d05c7ed9fa08afc4816b4998da34b8355b58b1c128605c488e68\n",
            "  Stored in directory: /root/.cache/pip/wheels/df/67/41/faca10fa501ca010be41b49d40360c2959e1c4f09bcbfa37fa\n",
            "  Building wheel for feedfinder2 (setup.py) ... \u001b[?25l\u001b[?25hdone\n",
            "  Created wheel for feedfinder2: filename=feedfinder2-0.0.4-py3-none-any.whl size=3357 sha256=52549aaff2f4451eafb856f92ef11c4ccac3da176eff8d5ce51e3b4c84f35a11\n",
            "  Stored in directory: /root/.cache/pip/wheels/7f/d4/8f/6e2ca54744c9d7292d88ddb8d42876bcdab5e6d84a21c10346\n",
            "  Building wheel for jieba3k (setup.py) ... \u001b[?25l\u001b[?25hdone\n",
            "  Created wheel for jieba3k: filename=jieba3k-0.35.1-py3-none-any.whl size=7398404 sha256=3e5c8547ff8fd72ba5ca2b1a96630ec3663bf05f90e08b7aec3885f4426de720\n",
            "  Stored in directory: /root/.cache/pip/wheels/4c/91/46/3c208287b726df325a5979574324878b679116e4baae1af3c3\n",
            "  Building wheel for sgmllib3k (setup.py) ... \u001b[?25l\u001b[?25hdone\n",
            "  Created wheel for sgmllib3k: filename=sgmllib3k-1.0.0-py3-none-any.whl size=6066 sha256=2547aae1fa4acc1b3e5e32c7cc79bcbb996d91850e9f1564f8a112b89df3f369\n",
            "  Stored in directory: /root/.cache/pip/wheels/73/ad/a4/0dff4a6ef231fc0dfa12ffbac2a36cebfdddfe059f50e019aa\n",
            "Successfully built tinysegmenter feedfinder2 jieba3k sgmllib3k\n",
            "Installing collected packages: sgmllib3k, requests-file, tldextract, tinysegmenter, jieba3k, feedparser, feedfinder2, cssselect, newspaper3k\n",
            "Successfully installed cssselect-1.1.0 feedfinder2-0.0.4 feedparser-6.0.8 jieba3k-0.35.1 newspaper3k-0.2.8 requests-file-1.5.1 sgmllib3k-1.0.0 tinysegmenter-0.3 tldextract-3.2.1\n"
          ]
        }
      ]
    },
    {
      "cell_type": "markdown",
      "source": [
        "#####Importing necessary packages..."
      ],
      "metadata": {
        "id": "3eXvu578-FqN"
      }
    },
    {
      "cell_type": "code",
      "execution_count": null,
      "metadata": {
        "id": "bIds3NmBsiD4"
      },
      "outputs": [],
      "source": [
        "from bs4 import BeautifulSoup\n",
        "from bs4.dammit import EncodingDetector\n",
        "from newspaper import Article\n",
        "import requests\n",
        "import matplotlib.pyplot as plt \n",
        "import numpy as np"
      ]
    },
    {
      "cell_type": "code",
      "source": [
        "URL=[\"https://www.timesnownews.com/coronavirus\",\"https://www.indiatoday.in/coronavirus\",\"https://www.ndtv.com/coronavirus?pfrom=home-mainnavgation\"]\n",
        "Url_count = []"
      ],
      "metadata": {
        "id": "BXL3K92Dsq-9"
      },
      "execution_count": null,
      "outputs": []
    },
    {
      "cell_type": "markdown",
      "source": [
        "The following for loop scrapres all the links that exist within a url from the URL list.\n",
        "\n",
        "Each of the extracted link's title is then printed"
      ],
      "metadata": {
        "id": "kj2OTodv-Pay"
      }
    },
    {
      "cell_type": "code",
      "source": [
        "for url in URL:\n",
        "    parser = 'html.parser'  \n",
        "    resp = requests.get(url)\n",
        "    http_encoding = resp.encoding if 'charset' in resp.headers.get('content-type', '').lower() else None\n",
        "    html_encoding = EncodingDetector.find_declared_encoding(resp.content, is_html=True)\n",
        "    encoding = html_encoding or http_encoding\n",
        "    soup = BeautifulSoup(resp.content, parser, from_encoding=encoding)\n",
        "        \n",
        "    links = []\n",
        "    for link in soup.find_all('a', href=True):\n",
        "        if \"javascript\" in link[\"href\"]:\n",
        "            continue\n",
        "        links.append(link['href'])\n",
        "    count = 0 \n",
        "    for link in links:\n",
        "        try:\n",
        "            article = Article(link)\n",
        "            article.download()\n",
        "            article.parse()\n",
        "            print(article.title)\n",
        "            if \"COVID\" in article.title or \"coronavirus\" in article.title or \"Coronavirus\"in article.title or \"Covid-19\" in article.title or \"COVID-19\" in article.title :\n",
        "                    count += 1\n",
        "    \n",
        "        except:\n",
        "            pass\n",
        "    Url_count.append(count)\n",
        "    print()\n",
        "    print()\n",
        "    print()"
      ],
      "metadata": {
        "colab": {
          "base_uri": "https://localhost:8080/"
        },
        "id": "NcHfFCRKsq0Y",
        "outputId": "d11e3b84-882a-41d4-b385-ec3e18c36469",
        "collapsed": true
      },
      "execution_count": null,
      "outputs": [
        {
          "output_type": "stream",
          "name": "stdout",
          "text": [
            "\n",
            "Login • Instagram\n",
            "Savlon Swasth India Mission- Hygiene Sahi to Health Sahi, Handwash Campaign\n",
            "Sports News, Latest Esports News and Articles\n",
            "Log in to Facebook\n",
            "\n",
            "LinkedIn\n",
            "Share on WhatsApp\n",
            "Entertainment News - Latest Bollywood News, Hollywood, Celebrity News and Gossips\n",
            "Bollywood News, Latest Hindi Movie News, Bollywood Gossips, Bollywood Videos\n",
            "Watch all latest movies, tv, news videos online\n",
            "Entertainment News - Latest Bollywood News, Hollywood, Celebrity News and Gossips\n",
            "Latest Hollywood News : English Movie News Today, Hollywood Gossips, Celeb Photos, Videos\n",
            "Latest Celebrity News and Gossips\n",
            "Latest Television News, TV serials news, TV celeb actors photos\n",
            "Web series and OTT Original movies News and Updates\n",
            "Korean - Korean News, Latest Korean Articles\n",
            "Shah Rukh Khan arrives in separate car with black curtains moments after wife Gauri Khan's entry for Alia, Ranbir's wedding bash, WATCH\n",
            "Ranbir Kapoor, Alia Bhatt wedding reception: Gauri Khan, Karan Johar, Aditya Roy Kapur and other guests arrive in style - PICS\n",
            "After being MIA from RanLia wedding, Tara Sutaria makes glamorous entry with BF Aadar Jain for Alia, Ranbir’s reception\n",
            "Neetu Kapoor, Riddhima dazzle in shimmery outfits as they arrive for Alia, Ranbir wedding bash\n",
            "Jug Jug Jeeyo actress Neetu Kapoor thanks Karan Johar for the 'new phase' in her life after Rishi Kapoor's death\n",
            "Sanjay Dutt reveals he 'cried for two-three hours' after getting diagnosed with Cancer, KGF: Chapter 2 star opens up on his treatment\n",
            "Alia-Ranbir wedding: Wonder Woman Gal Gadot reacts to new bride's mehendi photos, congratulates the happy couple\n",
            "Cyrus Sahukar ties the knot with longtime girlfriend Vaishali Malahara - see pics\n",
            "KGF: Chapter 2 trends better than Baahubali 2, Dangal, earns Rs 100 crore in two days\n",
            "Entertainment News - Latest Bollywood News, Hollywood, Celebrity News and Gossips\n",
            "Tears in heaven as Russia-Ukraine war grinds on\n",
            "Tears in heaven as Russia-Ukraine war grinds on\n",
            "Top Headlines: April 14, 2022\n",
            "Top Headlines: April 14, 2022\n",
            "Jharkhand ropeway tragedy: Full details so far\n",
            "Jharkhand ropeway tragedy: Full details so far\n",
            "Places on Earth that can be seen clearly from space\n",
            "Places on Earth that can be seen clearly from space\n",
            "9 most dangerous places in the world\n",
            "9 most dangerous places in the world\n",
            "Technology News in English: Latest Tech News, Gadget News, Test Mobile, Gadgets Compression, Reviews and more\n",
            "Latest Tech News Today, New Gadgets, Mobile Technology News\n",
            "mobile price in India, features, photos\n",
            "Compare mobile & price in India online, rating\n",
            "How To News & Features, Latest News and Features\n",
            "Gadgets and Mobile Reviews, Games, Reviews of Mobile Phones, Laptops, and Tablets at Gadgettimes\n",
            "Watch Videos New Gadgets Videos, Video Reviews Clips at Gadgettimes\n",
            "Moto G22 official renders and specifications leaked, may launch soon\n",
            "Realme 9 Pro+ confirmed to get an in-built heart rate sensor\n",
            "Samsung Galaxy Tab S8 series pricing surface online ahead of February 9 launch\n",
            "Realme Watch S100 launch timeline, color options tipped; may launch in India soon\n",
            "Samsung Galaxy S22 series pricing details for US market leaked ahead of February 9 launch\n",
            "Samsung Galaxy A53 5G appears on NBTC, FCC platforms; may launch soon\n",
            "Redmi Note 11 confirmed to launch alongside Note 11S in India\n",
            "GoI lambasts US tech giants towards stronger action on fake news\n",
            "WhatsApp 'Delete for Everyone' tipped to feature indefinite time limit\n",
            "Technology News in English: Latest Tech News, Gadget News, Test Mobile, Gadgets Compression, Reviews and more\n",
            "Times Foodie: Recipes, Food news, Vegetarian Recipes, Non Vegetarian Recipes, Nutritional Facts\n",
            "Try Latest Festival Sweets & Snack Recipes To Make it at Home\n",
            "Try Latest Occasion Cake & Snack Recipes To Make it at Home\n",
            "Easter Special: Lamb Bolognese with Spirelli\n",
            "Spicy and Saucy Paneer Satay Sticks\n",
            "Mangalorean 'Fried' Chicken with zero oil\n",
            "Mango Boat: Easter special dessert\n",
            "Make scrumptious Dahi Bhalla Chaat at home this way!\n",
            "Vishu special recipe: Salted Caramel Payasam\n",
            "Vishu sadhya special Avial: A creamy, tangy veg curry\n",
            "Chana Daal Payasam: Konkani Madgane recipe\n",
            "How to make Beetroot Pachadi: Vishu\n",
            "Puttu and Kadala Curry: Authentic Malayali breakfast recipe\n",
            "Times Foodie: Recipes, Food news, Vegetarian Recipes, Non Vegetarian Recipes, Nutritional Facts\n",
            "\n",
            "Login • Instagram\n",
            "\n",
            "\n",
            "\n",
            "Latest News, Breaking News Today - Bollywood, Cricket, Business, Politics - IndiaToday\n",
            "India Today Malayalam News (മലയാളം വാർത്തകൾ)\n",
            "Business News: Breaking Business News India, Today Share Market Latest News\n",
            "Latest News Analysis, Top News Headlines, Viral Videos and News Updates\n",
            "Hindi news, हिंदी न्यूज़ , Hindi Samachar, हिंदी समाचार, Latest News in Hindi, Breaking News in Hindi, ताजा ख़बरें, Aaj Tak News\n",
            "Latest News, opinion & viral stories from India in Hindi\n",
            "अब होगी अच्छी ख़बरों से आपकी मुलाक़ात सिर्फ गुड न्यूज़ टुडे पर\n",
            "Debatable news and stories India\n",
            "Articles on Health, True Stories, Humor, Personality, Opinion, Facts, Fiction, Interview\n",
            "Latest News, Breaking News Today - Bollywood, Cricket, Business, Politics - IndiaToday\n",
            "Cryptocurrency Price in India 17 April 2022: Latest Bitcoin, Ethereum, Dogecoin, Litecoin Price News\n",
            "Sign In, Your Account\n",
            "Latest News, Breaking News Today - Bollywood, Cricket, Business, Politics - IndiaToday\n",
            "For You: Customize and Personalize Your Interest on India Today\n",
            "Technology News, Latest Mobile Phones, Smartphone Reviews, Gadget News, Laptops, Apps and Tech Tips\n",
            "Science News: Latest India Science News, World Science News, Interesting Science Articles\n",
            "Cryptocurrency Price in India 17 April 2022: Latest Bitcoin, Ethereum, Dogecoin, Litecoin Price News\n",
            "\n",
            "India Today RSS Feed\n",
            "Sign In, Your Account\n",
            "Trending News: Latest Trending News, Twitter Trending, Facebook trending, Hot on Social Media\n",
            "Breaking News, Results, Exams, Education Updates and Notifications\n",
            "Visual Stories: India Today Visual Stories\n",
            "DIU\n",
            "India Today Games\n",
            "DNPA Code of Ethics\n",
            "रेट कार्ड\n",
            "Latest News, Breaking News Today - Bollywood, Cricket, Business, Politics - IndiaToday\n",
            "Coronavirus Covid 19 Latest News, Covid 19 Death Toll Updates\n",
            "Covid-19 Resources: Plasma donors, Oxygen Distributors Tracker and Verified Number by India Today\n",
            "Coronavirus Outbreak\n",
            "E-Conclave 2020\n",
            "Vaccine Updates\n",
            "Coronavirus Tracking Map - Coronavirus (COVID-19) India Spread Map Live\n",
            "All your questions about COVID-19 outbreak answered by top AIIMS doctor Randeep Guleria\n",
            "India Today E-Conclave 2020 Corona Series\n",
            "All you need to know about Omicron variant of coronavirus\n",
            "Covid-19 vaccination FAQs: Your questions about coronavirus vaccine safety answered\n",
            "Covid-19 vaccination dos and don'ts, how to get your vaccine certificate and more\n",
            "Novel Coronavirus outbreak: Myths about Covid-19 from around the world, debunked\n",
            "Vaccine Updates\n",
            "Coronavirus Outbreak\n",
            "Coronavirus Outbreak\n",
            "How fake report led villagers to attack blind Muslim man’s family near Khargone\n",
            "How fake report led villagers to attack blind Muslim man’s family near Khargone\n",
            "For Bhagwant Mann, Kejriwal’s shadow, not basic promises, is a major challenge\n",
            "For Bhagwant Mann, Kejriwal’s shadow, not basic promises, is a major challenge\n",
            "Future of Twitter as an Elon Musk company: Vile and messy like 4chan | OPINION\n",
            "Future of Twitter as an Elon Musk company: Vile and messy like 4chan | OPINION\n",
            "Elon Musk and the tribe of free-speech absolutists | An explainer\n",
            "Elon Musk and the tribe of free-speech absolutists | An explainer\n",
            "Violent clashes during Hanuman Jayanti celebrations in Delhi’s Jahangirpuri | Watch\n",
            "Violent clashes during Hanuman Jayanti celebrations in Delhi’s Jahangirpuri | Watch\n",
            "Russia-Ukraine War: French castles turn into refugee centres for Ukrainians\n",
            "Russia-Ukraine War: French castles turn into refugee centres for Ukrainians\n",
            "Key Congress meeting at 10 Janpath ends; RSS worker killed in Kerala’s Palakkad; more\n",
            "Key Congress meeting at 10 Janpath ends; RSS worker killed in Kerala’s Palakkad; more\n",
            "Hanuman Jayanti: MNS Chief Raj Thackeray to perform Maha Aarti at Pune temple\n",
            "Hanuman Jayanti: MNS Chief Raj Thackeray to perform Maha Aarti at Pune temple\n",
            "Russia-Ukraine crisis: Satellite images show Mariupol's devastation\n",
            "Russia-Ukraine crisis: Satellite images show Mariupol's devastation\n",
            "Fist Fighting in Pakistan’s Punjab assembly | Watch\n",
            "Fist Fighting in Pakistan’s Punjab assembly | Watch\n",
            "West Bengal: CBI makes first arrest in Nadia rape case\n",
            "West Bengal: CBI makes first arrest in Nadia rape case\n",
            "Violence against Sikhs rising in US | Watch\n",
            "Violence against Sikhs rising in US | Watch\n",
            "\n",
            "India Today RSS Feed\n",
            "Business News: Breaking Business News India, Today Share Market Latest News\n",
            "Cosmopolitan India: Celebrities Lifestyle News, Beauty, Fashion and Relationship Tips\n",
            "IndiaToday Magazine For the Thinking Indian\n",
            "Mail Today, Delhi's only tabloid newspaper from the India Today Group.\n",
            "Money Today Magazine: Top Business Magazine online, Edition, June 13, 2021\n",
            "Articles on Health, True Stories, Humor, Personality, Opinion, Facts, Fiction, Interview\n",
            "\n",
            "Hindi news, हिंदी न्यूज़ , Hindi Samachar, हिंदी समाचार, Latest News in Hindi, Breaking News in Hindi, ताजा ख़बरें, Aaj Tak News\n",
            "Aaj Tak Live TV: Free Live TV, Live News Streaming and TV Newscast at आजतक लाइव टीवी\n",
            "अब होगी अच्छी ख़बरों से आपकी मुलाक़ात सिर्फ गुड न्यूज़ टुडे पर\n",
            "Love Tips, Relationship Advice and Romantic Love Stories\n",
            "India Today Gaming: Sports Events, Gaming Tournaments and News\n",
            "Worlds Esports Cup 2021: WEC Free Fire Tournament, Prize Money, Schedule, Registration, Game Rules and Teams\n",
            "Vasant Valley School\n",
            "Best Colleges 2018 India: List of India’s Top Colleges in 2018\n",
            "List of Top Universities in India 2021\n",
            "India Today Conclave 2021: Taj Palace Hotel, New Delhi on 8th and 9th October\n",
            "SATURDAY, OCTOBER 13, THE OBEROI, NEW DELHI\n",
            "Sahitya 2018\n",
            "The Red Lab Expo Event 2019: India Today Lifestyle Event at The Grand Hotel\n",
            "Thomson Press (India) Limited\n",
            "Care Today Fund takes relief to Covid-19 impacted communities with the support of TV Today Network Ltd\n",
            "\n",
            "India Content Photos, Pictures, Photograph Online for Website\n",
            "Headlines Today News: Online News Aggregator of India Today, TOI, The Indian Express, NDTV, Hindustan Times\n",
            "रेट कार्ड\n",
            "Our Partner Sites\n",
            "PR Newswire\n",
            "Breaking News, Latest News & Top Video News\n",
            "Subscribe Newsletters of India Today, Aaj Tak, Business Today, The Lallantop and Daily Online\n",
            "IndiaToday Group Privacy Policy\n",
            "Correction policy\n",
            "Apps on Google Play\n",
            "‎India Today TV English News\n",
            "India Today Television – English News India\n",
            "India Content Photos, Pictures, Photograph Online for Website\n",
            "\n",
            "\n",
            "\n",
            "Get Latest News, India News, Breaking News, Today's News\n",
            "Latest and Breaking News in Hindi - NDTV India\n",
            "Business News, Market Updates, Economy, Finance, Stock, BSE, NSE, Nifty – NDTV Profit\n",
            "Celebrity News and Gossips – NDTV Movies\n",
            "Live Cricket Scores, Highlights, Cricket News, Results, Stats, Cricket Videos and More – NDTV Sports\n",
            "Tech News, Latest Technology, Mobiles, Laptops – NDTV Gadgets 360\n",
            "Food News, Health News, Indian Recipes, Healthy Recipes, Vegetarian Recipes, Indian Food recipes – NDTV Food\n",
            "Cryptocurrency News, Cryptocurrency Prices in India Today Sunday April 17, 2022- NDTV Profit\n",
            "NDTV Mobile Visual Stories\n",
            "Latest Education News: Admission, Exams, Result, Admit Card, Events and New Regulations\n",
            "Car and Bike Prices, News, Reviews, Comparison; Upcoming Car Models, Buy/Sell Used Vehicles\n",
            "NDTV-Dettol Banega Swasth India\n",
            "Lifestyle News: Latest and updates on Lifestyle Trends\n",
            "Health Care News, Health and Fitness Tips, Diet Plan, Home Remedies, Heart, Pregnancy and Sexual Health advice\n",
            "Buy Mobiles, Laptops, LED TV, Earpods Online – NDTV.com\n",
            "Art Online: Buy Paintings & Prints Online\n",
            "Coronavirus: Find Latest News, Update, information on COVID-19 Outbreak, Total Cases, Death Rate of Coronavirus with NDTV.com\n",
            "Coronavirus News: Find Latest News, Updates and Cases effected by coronavirus\n",
            "Coronavirus (COVID-19): Find Latest worldwide Updates, Outbreak, confirmed cases, deaths of Coronavirus – NDTV\n",
            "Coronavirus (COVID-19): Find Latest worldwide Updates, Outbreak, confirmed cases, deaths of Coronavirus – NDTV\n",
            "Coronavirus News Videos: Find Latest Coronavirus Video Updates and Cases with NDTV\n",
            "Coronavirus FAQ: Frequently asked questions about novel coronavirus (COVID-19)\n",
            "Log in to Facebook\n",
            "\n",
            "Get Latest News, India News, Breaking News, Today's News\n",
            "Delhi Covid Positivity Rate Rises To 3.95%, 366 New Cases In 24 Hours\n",
            "Coronavirus News: Find Latest News, Updates and Cases effected by coronavirus\n",
            "WHO Monitors Hepatitis Of Unknown Origin In UK Children\n",
            "WHO Monitors Hepatitis Of Unknown Origin In UK Children\n",
            "Free Covid Booster Shots At Delhi Government Hospitals Soon\n",
            "Free Covid Booster Shots At Delhi Government Hospitals Soon\n",
            "Gurugram's Door-To-Door Vaccination Plan As Covid Cases Rise\n",
            "Gurugram's Door-To-Door Vaccination Plan As Covid Cases Rise\n",
            "\"Best Time To Get Covid...\": Top Scientist Dismisses Fears For Children\n",
            "\"Best Time To Get Covid...\": Top Scientist Dismisses Fears For Children\n",
            "Nearly 48% Rise In Home Isolation Cases Of Covid In A Week In Delhi: Report\n",
            "Nearly 48% Rise In Home Isolation Cases Of Covid In A Week In Delhi: Report\n",
            "On Camera, Shanghai Residents Clash With Police Over Virus Policy\n",
            "On Camera, Shanghai Residents Clash With Police Over Virus Policy\n",
            "WHO Experts Insist Covid Still A Global Emergency\n",
            "WHO Experts Insist Covid Still A Global Emergency\n",
            "Delhi Disaster Body To Meet April 20 Over Uptick In Covid Cases\n",
            "Delhi Disaster Body To Meet April 20 Over Uptick In Covid Cases\n",
            "Coronavirus (COVID-19): Find Latest worldwide Updates, Outbreak, confirmed cases, deaths of Coronavirus – NDTV\n",
            "Coronavirus News: Find Latest News, Updates and Cases effected by coronavirus\n",
            "Delhi Govt Issues COVID-19 Guidelines For Schools\n",
            "Delhi Govt Issues COVID-19 Guidelines For Schools\n",
            "India Logs 949 New COVID-19 Cases, 6 Covid Deaths In 24 Hours: Centre\n",
            "India Logs 949 New COVID-19 Cases, 6 Covid Deaths In 24 Hours: Centre\n",
            "Coronavirus (COVID-19): Find Latest worldwide Updates, Outbreak, confirmed cases, deaths of Coronavirus – NDTV\n",
            "Coronavirus Highlights: India Records 975 New Covid Cases In 24 Hours\n",
            "Coronavirus helpline Numbers India: find all state helpline numbers of Coronavirus\n",
            "\n",
            "\n",
            "\n",
            "\n",
            "\n",
            "\n",
            "home_isolation_11Jan-2022 new\n",
            "Coronavirus News Videos: Find Latest Coronavirus Video Updates and Cases with NDTV\n",
            "Delhi Covid Positivity Rate Rises To 3.95%, 366 New Cases In 24 Hours\n",
            "Delhi Covid Positivity Rate Rises To 3.95%, 366 New Cases In 24 Hours\n",
            "India Logs 949 New COVID-19 Cases, 6 Covid Deaths In 24 Hours: Centre\n",
            "India Logs 949 New COVID-19 Cases, 6 Covid Deaths In 24 Hours: Centre\n",
            "&quot;Best Time To Get Covid...&quot;: Top Scientist Dismisses Fears For Children\n",
            "&quot;Best Time To Get Covid...&quot;: Top Scientist Dismisses Fears For Children\n",
            "No Need To Close Schools, Keep Wearing Masks: Doctor On Rising Covid Cases\n",
            "No Need To Close Schools, Keep Wearing Masks: Doctor On Rising Covid Cases\n",
            "Spike In Covid Cases In Delhi, Haryana, Mumbai\n",
            "Spike In Covid Cases In Delhi, Haryana, Mumbai\n",
            "Private Hospitals In Delhi, Tamil Nadu Yet To Slash Covid Vaccine Prices\n",
            "Private Hospitals In Delhi, Tamil Nadu Yet To Slash Covid Vaccine Prices\n",
            "Coronavirus FAQ: Frequently asked questions about novel coronavirus (COVID-19)\n",
            "Coronavirus Myth Busters: Myth Busters against COVID-19 coronavirus\n",
            "Coronavirus News: Find Latest News, Updates and Cases effected by coronavirus\n",
            "Get Latest News, India News, Breaking News, Today's News\n",
            "Log in to Facebook\n",
            "\n",
            "Login • Instagram\n",
            "\n",
            "The Company\n",
            "Homepage\n",
            "EPG Services, EPG Scheduling & Aggregation and Rich Meta Data Services – NDTV.com\n",
            "NDTV Is Hiring: See Openings Here\n",
            "RIO Agreement 2\n",
            "Disclaimer\n",
            "FEEDBACK\n",
            "The Investor\n",
            "NDTV »Complaints Redressal\n",
            "SERVICE TERMS\n",
            "Daily News NDTV.com Archives: News Archives Sitemap\n",
            "Get Latest News, India News, Breaking News, Today's News\n",
            "Business News, Market Updates, Economy, Finance, Stock, BSE, NSE, Nifty – NDTV Profit\n",
            "Latest and Breaking News in Hindi - NDTV India\n",
            "Celebrity News and Gossips – NDTV Movies\n",
            "Live Cricket Scores, Highlights, Cricket News, Results, Stats, Cricket Videos and More – NDTV Sports\n",
            "Food News, Health News, Indian Recipes, Healthy Recipes, Vegetarian Recipes, Indian Food recipes – NDTV Food\n",
            "Tech News, Latest Technology, Mobiles, Laptops – NDTV Gadgets 360\n",
            "Car and Bike Prices, News, Reviews, Comparison; Upcoming Car Models, Buy/Sell Used Vehicles\n",
            "Trains Between Stations\n",
            "Art Online: Buy Paintings & Prints Online\n",
            "Code Of Ethics For Digital News Websites\n",
            "\n",
            "\n",
            "\n"
          ]
        }
      ]
    },
    {
      "cell_type": "markdown",
      "source": [
        "The following code displays the number of occurances of a given word (\"covid\") in the title of each news website"
      ],
      "metadata": {
        "id": "ODxQnCzO-tZL"
      }
    },
    {
      "cell_type": "code",
      "source": [
        "print('\\033[1m'+ 'Number of articles with the word \"coronavirus\" in it' )    \n",
        "for url, count in zip(URL, Url_count):\n",
        "       \n",
        "    print('\\033[1m'+ \"Site:\", url, '\\033[1m'+ \"Count:\", count)\n",
        "    print()\n",
        "    print()\n",
        "print('\\033[1m'+'Graphical representation of the word count')"
      ],
      "metadata": {
        "colab": {
          "base_uri": "https://localhost:8080/"
        },
        "id": "-34y47ajsqvr",
        "outputId": "5ebc19a0-aa25-43b9-c874-de599b002a73",
        "collapsed": true
      },
      "execution_count": null,
      "outputs": [
        {
          "output_type": "stream",
          "name": "stdout",
          "text": [
            "\u001b[1mNumber of articles with the word \"coronavirus\" in it\n",
            "\u001b[1mSite: https://www.timesnownews.com/coronavirus \u001b[1mCount: 0\n",
            "\n",
            "\n",
            "\u001b[1mSite: https://www.indiatoday.in/coronavirus \u001b[1mCount: 12\n",
            "\n",
            "\n",
            "\u001b[1mSite: https://www.ndtv.com/coronavirus?pfrom=home-mainnavgation \u001b[1mCount: 22\n",
            "\n",
            "\n",
            "\u001b[1mGraphical representation of the word count\n"
          ]
        }
      ]
    },
    {
      "cell_type": "markdown",
      "source": [
        "Finally, the following code displays a bar graph showing the comparisions between different websites."
      ],
      "metadata": {
        "id": "rfMfBumw_A4y"
      }
    },
    {
      "cell_type": "code",
      "source": [
        "# make an array for the x-axis from the URL List \n",
        "nx = np.arange(len(URL)) \n",
        "\n",
        "labels = ['timessnownews', 'indiatoday','Ndtv']\n",
        "\n",
        "fig = plt.figure()\n",
        "ax = fig.gca()\n",
        "ax.set_title('Media analysis')\n",
        "ax.bar(nx, Url_count)\n",
        "ax.set_xticks(nx)\n",
        "ax.set_xticklabels(labels)\n",
        "ax.set_ylabel('Number of articles')\n",
        "ax.set_xlabel('News Websites')"
      ],
      "metadata": {
        "colab": {
          "base_uri": "https://localhost:8080/",
          "height": 313
        },
        "id": "VkZOb3gnsqsi",
        "outputId": "488965d4-f45a-4396-9b29-0ebad37ea22e",
        "collapsed": true
      },
      "execution_count": null,
      "outputs": [
        {
          "output_type": "execute_result",
          "data": {
            "text/plain": [
              "Text(0.5, 0, 'News Websites')"
            ]
          },
          "metadata": {},
          "execution_count": 9
        },
        {
          "output_type": "display_data",
          "data": {
            "text/plain": [
              "<Figure size 432x288 with 1 Axes>"
            ],
            "image/png": "[encoded data removed]"
          },
          "metadata": {
            "needs_background": "light"
          }
        }
      ]
    }
  ]
}